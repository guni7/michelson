{
 "cells": [
  {
   "cell_type": "code",
   "execution_count": 5,
   "id": "747b8fa7",
   "metadata": {},
   "outputs": [
    {
     "name": "stdout",
     "output_type": "stream",
     "text": [
      "storage: updated\n",
      "parameter: updated\n",
      "code: updated"
     ]
    },
    {
     "data": {
      "text/html": [],
      "text/plain": []
     },
     "execution_count": 5,
     "metadata": {},
     "output_type": "execute_result"
    }
   ],
   "source": [
    "storage unit ;\n",
    "parameter unit ;\n",
    "code {\n",
    "    DROP;\n",
    "    PUSH unit Unit ;\n",
    "    NIL operation ;\n",
    "    PAIR\n",
    "}"
   ]
  },
  {
   "cell_type": "code",
   "execution_count": 6,
   "id": "c9932bfa",
   "metadata": {},
   "outputs": [
    {
     "name": "stdout",
     "output_type": "stream",
     "text": [
      "BEGIN %default / _ => (Unit * Unit)\n",
      "DROP / (Unit * Unit) => _\n",
      "PUSH / _ => Unit\n",
      "NIL / _ => []\n",
      "PAIR / [] : Unit => ([] * Unit)\n",
      "END %default / ([] * Unit) => _"
     ]
    },
    {
     "data": {
      "text/html": [
       "<h4>Operations</h4><h4>Storage</h4><table>\n",
       "<thead>\n",
       "<tr><th>type                                     </th><th>value                                    </th></tr>\n",
       "</thead>\n",
       "<tbody>\n",
       "<tr><td><pre style=&quot;text-align: left;&quot;>unit</pre></td><td><pre style=&quot;text-align: left;&quot;>Unit</pre></td></tr>\n",
       "</tbody>\n",
       "</table>"
      ],
      "text/plain": [
       "Operations\n",
       "Storage\n",
       "type    value\n",
       "------  -------\n",
       "unit    Unit"
      ]
     },
     "execution_count": 6,
     "metadata": {},
     "output_type": "execute_result"
    }
   ],
   "source": [
    "RUN %default Unit Unit ;"
   ]
  },
  {
   "cell_type": "code",
   "execution_count": 7,
   "id": "75cae941",
   "metadata": {},
   "outputs": [
    {
     "name": "stdout",
     "output_type": "stream",
     "text": [
      "storage: updated\n",
      "parameter: updated\n",
      "BEGIN %default / _ => (Unit * Unit)"
     ]
    },
    {
     "data": {
      "text/html": [
       "<h4>Stack updates</h4><table>\n",
       "<thead>\n",
       "<tr><th>index                                 </th><th>type                                                 </th><th>value                                            </th></tr>\n",
       "</thead>\n",
       "<tbody>\n",
       "<tr><td><pre style=&quot;text-align: left;&quot;>0</pre></td><td><pre style=&quot;text-align: left;&quot;>pair (unit unit)</pre></td><td><pre style=&quot;text-align: left;&quot;>(Unit, Unit)</pre></td></tr>\n",
       "</tbody>\n",
       "</table>"
      ],
      "text/plain": [
       "Stack updates\n",
       "  index  type              value\n",
       "-------  ----------------  ------------\n",
       "      0  pair (unit unit)  (Unit, Unit)"
      ]
     },
     "execution_count": 7,
     "metadata": {},
     "output_type": "execute_result"
    }
   ],
   "source": [
    "storage unit ;\n",
    "parameter unit ;\n",
    "BEGIN Unit Unit;\n",
    "DROP"
   ]
  },
  {
   "cell_type": "code",
   "execution_count": 13,
   "id": "174ee348",
   "metadata": {},
   "outputs": [
    {
     "name": "stdout",
     "output_type": "stream",
     "text": [
      "storage: updated\n",
      "parameter: updated\n",
      "BEGIN %default / _ => (Unit * Unit)\n",
      "DROP / (Unit * Unit) => _\n",
      "DUMP => []\n",
      "PUSH / _ => Unit\n",
      "DUMP => [Unit]\n",
      "NIL / _ => []\n",
      "DUMP => [[], Unit]\n",
      "PAIR / [] : Unit => ([] * Unit)\n",
      "DUMP => [([] * Unit)]\n",
      "END %default / ([] * Unit) => _"
     ]
    },
    {
     "data": {
      "text/html": [
       "<h4>Operations</h4><h4>Storage</h4><table>\n",
       "<thead>\n",
       "<tr><th>type                                     </th><th>value                                    </th></tr>\n",
       "</thead>\n",
       "<tbody>\n",
       "<tr><td><pre style=&quot;text-align: left;&quot;>unit</pre></td><td><pre style=&quot;text-align: left;&quot;>Unit</pre></td></tr>\n",
       "</tbody>\n",
       "</table>"
      ],
      "text/plain": [
       "Operations\n",
       "Storage\n",
       "type    value\n",
       "------  -------\n",
       "unit    Unit"
      ]
     },
     "execution_count": 13,
     "metadata": {},
     "output_type": "execute_result"
    }
   ],
   "source": [
    "storage unit ;\n",
    "parameter unit ;\n",
    "BEGIN Unit Unit;\n",
    "DROP ;\n",
    "DUMP ;\n",
    "PUSH unit Unit ;\n",
    "DUMP ;\n",
    "NIL operation;\n",
    "DUMP ;\n",
    "PAIR;\n",
    "DUMP ;\n",
    "COMMIT ;"
   ]
  },
  {
   "cell_type": "code",
   "execution_count": null,
   "id": "0c0bf28a",
   "metadata": {},
   "outputs": [],
   "source": []
  }
 ],
 "metadata": {
  "kernelspec": {
   "display_name": "Michelson",
   "language": "michelson",
   "name": "michelson"
  },
  "language_info": {
   "codemirror_mode": "michelson",
   "file_extension": ".tz",
   "mimetype": "text/x-michelson",
   "name": "Michelson"
  }
 },
 "nbformat": 4,
 "nbformat_minor": 5
}
