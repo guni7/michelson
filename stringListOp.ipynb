{
 "cells": [
  {
   "cell_type": "code",
   "execution_count": 3,
   "id": "69285e18",
   "metadata": {},
   "outputs": [
    {
     "name": "stdout",
     "output_type": "stream",
     "text": [
      "storage: updated\n",
      "parameter: updated\n",
      "code: updated\n",
      "BEGIN %default / _ => ('tezos' * '')\n",
      "CAR / ('tezos' * '') => 'tezos'\n",
      "DUP / 'tezos' => 'tezos' : 'tezos'\n",
      "SIZE / 'tezos' => 5\n",
      "PUSH / _ => 5\n",
      "COMPARE / 5 : 5 => 0\n",
      "LE / 0 => True\n",
      "IF / True => _\n",
      "NIL / _ => []\n",
      "PAIR / [] : 'tezos' => ([] * 'tezos')\n",
      "END %default / ([] * 'tezos') => _"
     ]
    },
    {
     "data": {
      "text/html": [
       "<h4>Operations</h4><h4>Storage</h4><table>\n",
       "<thead>\n",
       "<tr><th>type                                       </th><th>value                                     </th></tr>\n",
       "</thead>\n",
       "<tbody>\n",
       "<tr><td><pre style=&quot;text-align: left;&quot;>string</pre></td><td><pre style=&quot;text-align: left;&quot;>tezos</pre></td></tr>\n",
       "</tbody>\n",
       "</table>"
      ],
      "text/plain": [
       "Operations\n",
       "Storage\n",
       "type    value\n",
       "------  -------\n",
       "string  tezos"
      ]
     },
     "execution_count": 3,
     "metadata": {},
     "output_type": "execute_result"
    }
   ],
   "source": [
    "storage string ;\n",
    "parameter string ;\n",
    "code {\n",
    "    CAR ; \n",
    "    DUP ;\n",
    "    SIZE ;\n",
    "    PUSH nat 5 ;\n",
    "    IFCMPLE\n",
    "        { \n",
    "            NIL operation ;\n",
    "            PAIR ;\n",
    "        }\n",
    "        {\n",
    "            PUSH string \"LengthMismatch\" ;\n",
    "            FAILWITH ;\n",
    "        } ;\n",
    "} ; \n",
    "RUN %default \"tezos\" \"\" ;"
   ]
  },
  {
   "cell_type": "code",
   "execution_count": 14,
   "id": "39e3b832",
   "metadata": {},
   "outputs": [
    {
     "name": "stdout",
     "output_type": "stream",
     "text": [
      "storage: updated\n",
      "parameter: updated\n",
      "code: updated\n",
      "BEGIN %default / _ => ('BakingBad' * '')\n",
      "CAR / ('BakingBad' * '') => 'BakingBad'\n",
      "PUSH / _ => 3\n",
      "PUSH / _ => 6\n",
      "DUMP => [6, 3, 'BakingBad']\n",
      "SLICE / 6 : 3 : 'BakingBad' => 'Bad'?\n",
      "IF_NONE / 'Bad'? => 'Bad'\n",
      "NIL / _ => []\n",
      "PAIR / [] : 'Bad' => ([] * 'Bad')\n",
      "END %default / ([] * 'Bad') => _"
     ]
    },
    {
     "data": {
      "text/html": [
       "<h4>Operations</h4><h4>Storage</h4><table>\n",
       "<thead>\n",
       "<tr><th>type                                       </th><th>value                                   </th></tr>\n",
       "</thead>\n",
       "<tbody>\n",
       "<tr><td><pre style=&quot;text-align: left;&quot;>string</pre></td><td><pre style=&quot;text-align: left;&quot;>Bad</pre></td></tr>\n",
       "</tbody>\n",
       "</table>"
      ],
      "text/plain": [
       "Operations\n",
       "Storage\n",
       "type    value\n",
       "------  -------\n",
       "string  Bad"
      ]
     },
     "execution_count": 14,
     "metadata": {},
     "output_type": "execute_result"
    }
   ],
   "source": [
    "storage string ;\n",
    "parameter string ;\n",
    "code {\n",
    "    CAR ;\n",
    "    PUSH @length nat 3 ;\n",
    "    PUSH @offset nat 6 ; \n",
    "    DUMP ;\n",
    "    SLICE ;\n",
    "    IF_NONE { PUSH string \"WrongLength\" ; FAILWITH ; } \n",
    "    { \n",
    "        NIL operation ;\n",
    "        PAIR ;\n",
    "    }\n",
    "  \n",
    "} ;\n",
    "RUN %default \"BakingBad\" \"\" ;"
   ]
  },
  {
   "cell_type": "code",
   "execution_count": 17,
   "id": "e01f1ea9",
   "metadata": {},
   "outputs": [
    {
     "name": "stdout",
     "output_type": "stream",
     "text": [
      "storage: updated\n",
      "parameter: updated\n",
      "code: updated\n",
      "BEGIN %default / _ => ('BakingBad' * '')\n",
      "CAR / ('BakingBad' * '') => 'BakingBad'\n",
      "DUP / 'BakingBad' => 'BakingBad' : 'BakingBad'\n",
      "PUSH / _ => 6\n",
      "PUSH / _ => 0\n",
      "SLICE / 0 : 6 : 'BakingBad' => 'Baking'?\n",
      "IF_NONE / 'Baking'? => 'Baking'\n",
      "SWAP / 'Baking' : 'BakingBad' => 'BakingBad' : 'Baking'\n",
      "PUSH / _ => 3\n",
      "PUSH / _ => 6\n",
      "SLICE / 6 : 3 : 'BakingBad' => 'Bad'?\n",
      "IF_NONE / 'Bad'? => 'Bad'\n",
      "SWAP / 'Bad' : 'Baking' => 'Baking' : 'Bad'\n",
      "PUSH / _ => ' '\n",
      "SWAP / ' ' : 'Baking' => 'Baking' : ' '\n",
      "CONCAT / 'Baking' : ' ' => 'Baking '\n",
      "CONCAT / 'Baking ' : 'Bad' => 'Baking Bad'\n",
      "NIL / _ => []\n",
      "PAIR / [] : 'Baking Bad' => ([] * 'Baking Bad')\n",
      "END %default / ([] * 'Baking Bad') => _"
     ]
    },
    {
     "data": {
      "text/html": [
       "<h4>Operations</h4><h4>Storage</h4><table>\n",
       "<thead>\n",
       "<tr><th>type                                       </th><th>value                                          </th></tr>\n",
       "</thead>\n",
       "<tbody>\n",
       "<tr><td><pre style=&quot;text-align: left;&quot;>string</pre></td><td><pre style=&quot;text-align: left;&quot;>Baking Bad</pre></td></tr>\n",
       "</tbody>\n",
       "</table>"
      ],
      "text/plain": [
       "Operations\n",
       "Storage\n",
       "type    value\n",
       "------  ----------\n",
       "string  Baking Bad"
      ]
     },
     "execution_count": 17,
     "metadata": {},
     "output_type": "execute_result"
    }
   ],
   "source": [
    "storage string ;\n",
    "parameter string ;\n",
    "code {\n",
    "    CAR ;\n",
    "    DUP ;\n",
    "    PUSH @length nat 6 ;\n",
    "    PUSH @offset nat 0 ;\n",
    "    SLICE ;\n",
    "    IF_NONE \n",
    "        { PUSH string \"WrongLength\" ; FAILWITH ;}\n",
    "        { } ;\n",
    "    SWAP ;\n",
    "    PUSH @length nat 3 ;\n",
    "    PUSH @offset nat 6 ;\n",
    "    SLICE ;\n",
    "    IF_NONE \n",
    "        { PUSH string \"WrongLength\" ; FAILWITH ;}\n",
    "        { } ;\n",
    "    SWAP ;\n",
    "    PUSH string \" \" ;\n",
    "    SWAP ;\n",
    "    CONCAT ;\n",
    "    CONCAT ;\n",
    "    NIL operation ;\n",
    "    PAIR ;\n",
    "} ;\n",
    "\n",
    "RUN %default \"BakingBad\" \"\" ;\n"
   ]
  },
  {
   "cell_type": "code",
   "execution_count": 19,
   "id": "4b0859c7",
   "metadata": {},
   "outputs": [
    {
     "name": "stdout",
     "output_type": "stream",
     "text": [
      "storage: updated\n",
      "parameter: updated\n",
      "code: updated\n",
      "BEGIN %default / _ => ('tez' * [])\n",
      "CAR / ('tez' * []) => 'tez'\n",
      "NIL / _ => []\n",
      "SWAP / [] : 'tez' => 'tez' : []\n",
      "CONS / 'tez' : [] => ['tez']\n",
      "NIL / _ => []\n",
      "PAIR / [] : ['tez'] => ([] * ['tez'])\n",
      "END %default / ([] * ['tez']) => _"
     ]
    },
    {
     "data": {
      "text/html": [
       "<h4>Operations</h4><h4>Storage</h4><table>\n",
       "<thead>\n",
       "<tr><th>type                                              </th><th>value                                       </th></tr>\n",
       "</thead>\n",
       "<tbody>\n",
       "<tr><td><pre style=&quot;text-align: left;&quot;>list (string)</pre></td><td><pre style=&quot;text-align: left;&quot;>[&#x27;tez&#x27;]</pre></td></tr>\n",
       "</tbody>\n",
       "</table>"
      ],
      "text/plain": [
       "Operations\n",
       "Storage\n",
       "type           value\n",
       "-------------  -------\n",
       "list (string)  ['tez']"
      ]
     },
     "execution_count": 19,
     "metadata": {},
     "output_type": "execute_result"
    }
   ],
   "source": [
    "storage (list string) ;\n",
    "parameter string ;\n",
    "code {\n",
    "    CAR ;\n",
    "    NIL string ;\n",
    "    SWAP ;\n",
    "    CONS ;\n",
    "    NIL operation ;\n",
    "    PAIR ;\n",
    "} ;\n",
    "\n",
    "RUN %default \"tez\" {}"
   ]
  },
  {
   "cell_type": "code",
   "execution_count": 35,
   "id": "7cad1ff5",
   "metadata": {},
   "outputs": [
    {
     "name": "stdout",
     "output_type": "stream",
     "text": [
      "storage: updated\n",
      "parameter: updated\n",
      "code: updated\n",
      "BEGIN %default / _ => ([1, 3, 4, 5] * [])\n",
      "CAR / ([1, 3, 4, 5] * []) => [1, 3, 4, 5]\n",
      "MAP / [1, 3, 4, 5] => 1\n",
      "DUP / 1 => 1 : 1\n",
      "PUSH / _ => 3\n",
      "COMPARE / 3 : 1 => 1\n",
      "GT / 1 => True\n",
      "IF / True => _\n",
      "PUSH / _ => 2\n",
      "ADD / 2 : 1 => 3\n",
      "MAP / 3 => 3\n",
      "DUP / 3 => 3 : 3\n",
      "PUSH / _ => 3\n",
      "COMPARE / 3 : 3 => 0\n",
      "GT / 0 => False\n",
      "IF / False => _\n",
      "MAP / 3 => 4\n",
      "DUP / 4 => 4 : 4\n",
      "PUSH / _ => 3\n",
      "COMPARE / 3 : 4 => -1\n",
      "GT / -1 => False\n",
      "IF / False => _\n",
      "MAP / 4 => 5\n",
      "DUP / 5 => 5 : 5\n",
      "PUSH / _ => 3\n",
      "COMPARE / 3 : 5 => -1\n",
      "GT / -1 => False\n",
      "IF / False => _\n",
      "MAP / 5 => [3, 3, 4, 5]\n",
      "NIL / _ => []\n",
      "PAIR / [] : [3, 3, 4, 5] => ([] * [3, 3, 4, 5])\n",
      "END %default / ([] * [3, 3, 4, 5]) => _"
     ]
    },
    {
     "data": {
      "text/html": [
       "<h4>Operations</h4><h4>Storage</h4><table>\n",
       "<thead>\n",
       "<tr><th>type                                           </th><th>value                                            </th></tr>\n",
       "</thead>\n",
       "<tbody>\n",
       "<tr><td><pre style=&quot;text-align: left;&quot;>list (nat)</pre></td><td><pre style=&quot;text-align: left;&quot;>[3, 3, 4, 5]</pre></td></tr>\n",
       "</tbody>\n",
       "</table>"
      ],
      "text/plain": [
       "Operations\n",
       "Storage\n",
       "type        value\n",
       "----------  ------------\n",
       "list (nat)  [3, 3, 4, 5]"
      ]
     },
     "execution_count": 35,
     "metadata": {},
     "output_type": "execute_result"
    }
   ],
   "source": [
    "storage (list nat) ;\n",
    "parameter (list nat ) ;\n",
    "code {\n",
    "    CAR ;\n",
    "    MAP {\n",
    "        DUP ;\n",
    "        PUSH nat 3 ;\n",
    "        IFCMPGT \n",
    "            { PUSH nat 2 ; ADD ; }\n",
    "            { }\n",
    "    } ; \n",
    "    NIL operation ;\n",
    "    PAIR ;\n",
    "} ;\n",
    "\n",
    "RUN %default { 1; 3; 4; 5;} {} ;"
   ]
  },
  {
   "cell_type": "code",
   "execution_count": null,
   "id": "70df0b38",
   "metadata": {},
   "outputs": [],
   "source": []
  }
 ],
 "metadata": {
  "kernelspec": {
   "display_name": "Michelson",
   "language": "michelson",
   "name": "michelson"
  },
  "language_info": {
   "codemirror_mode": "michelson",
   "file_extension": ".tz",
   "mimetype": "text/x-michelson",
   "name": "Michelson"
  }
 },
 "nbformat": 4,
 "nbformat_minor": 5
}
