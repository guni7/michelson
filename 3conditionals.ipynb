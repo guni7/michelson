{
 "cells": [
  {
   "cell_type": "code",
   "execution_count": 14,
   "id": "f4e966b7",
   "metadata": {},
   "outputs": [
    {
     "name": "stdout",
     "output_type": "stream",
     "text": [
      "storage: updated\n",
      "parameter: updated\n",
      "BEGIN %default / _ => (5 * 6)\n",
      "DUP / (5 * 6) => (5 * 6) : (5 * 6)\n",
      "CAR / (5 * 6) => 5\n",
      "SWAP / 5 : (5 * 6) => (5 * 6) : 5\n",
      "CDR / (5 * 6) => 6\n",
      "DUMP => [6, 5]\n",
      "COMPARE / 6 : 5 => 1\n",
      "DUMP => [1]\n",
      "DROP / 1 => _\n",
      "DUMP => []\n",
      "PUSH / _ => 6\n",
      "PUSH / _ => 5\n",
      "COMPARE / 5 : 6 => -1\n",
      "DROP / -1 => _\n",
      "DUMP => []\n",
      "PUSH / _ => 3\n",
      "PUSH / _ => 3\n",
      "COMPARE / 3 : 3 => 0\n",
      "EQ / 0 => True\n",
      "IF / True => _\n",
      "PUSH / _ => 'Is True'"
     ]
    },
    {
     "data": {
      "text/html": [
       "<h4>Stack updates</h4><table>\n",
       "<thead>\n",
       "<tr><th>index                                 </th><th>type                                       </th><th>value                                       </th></tr>\n",
       "</thead>\n",
       "<tbody>\n",
       "<tr><td><pre style=&quot;text-align: left;&quot;>0</pre></td><td><pre style=&quot;text-align: left;&quot;>string</pre></td><td><pre style=&quot;text-align: left;&quot;>Is True</pre></td></tr>\n",
       "</tbody>\n",
       "</table>"
      ],
      "text/plain": [
       "Stack updates\n",
       "  index  type    value\n",
       "-------  ------  -------\n",
       "      0  string  Is True"
      ]
     },
     "execution_count": 14,
     "metadata": {},
     "output_type": "execute_result"
    }
   ],
   "source": [
    "storage int ;\n",
    "parameter int ;\n",
    "BEGIN 5 6 ;\n",
    "DUP ; CAR @param ; SWAP ; CDR @storage ; DUMP ;\n",
    "COMPARE ; DUMP ;\n",
    "DROP ; DUMP ;\n",
    "PUSH int 6 ; PUSH int 5 ; COMPARE ;\n",
    "DROP ; DUMP ;\n",
    "PUSH int 3 ; PUSH int 3 ; \n",
    "COMPARE ; EQ ;\n",
    "IF \n",
    "    { PUSH string \"Is True\" }\n",
    "    { PUSH string \"Is False\" }"
   ]
  },
  {
   "cell_type": "code",
   "execution_count": null,
   "id": "2c2a24f9",
   "metadata": {},
   "outputs": [
    {
     "name": "stdout",
     "output_type": "stream",
     "text": [
      "storage: updated\n",
      "parameter: updated\n",
      "BEGIN %default / _ => (Unit * Unit)\n",
      "DUMP => [(Unit * Unit)]\n",
      "DROP / (Unit * Unit) => _\n",
      "PUSH / _ => 4\n",
      "DUP / 4 => 4 : 4\n",
      "COMPARE / 4 : 4 => 0\n",
      "EQ / 0 => True\n",
      "IF / True => _\n",
      "PUSH / _ => 'It's equal :)'\n",
      "PUSH / _ => 5\n",
      "PUSH / _ => 4\n",
      "COMPARE / 4 : 5 => -1\n",
      "EQ / -1 => False\n",
      "IF / False => _\n",
      "UNIT / _ => Unit\n",
      "FAILWITH: Unit"
     ]
    },
    {
     "name": "stderr",
     "output_type": "stream",
     "text": [
      "FAILWITH: Unit"
     ]
    }
   ],
   "source": [
    "storage unit ;\n",
    "parameter unit ;\n",
    "BEGIN Unit Unit ;\n",
    "DUMP ;\n",
    "DROP ;\n",
    "PUSH int 4 ;\n",
    "DUP ;\n",
    "IFCMPEQ \n",
    "    { PUSH string \"It's equal :)\" }\n",
    "    { PUSH string \"It's unequal :) \"} ;\n",
    "PUSH int 5 ; PUSH int 4 ;\n",
    "IFCMPEQ \n",
    "    { PUSH string \"It is equal : )\"}\n",
    "    { FAIL }"
   ]
  },
  {
   "cell_type": "code",
   "execution_count": 49,
   "id": "76e467f8",
   "metadata": {},
   "outputs": [
    {
     "name": "stdout",
     "output_type": "stream",
     "text": [
      "storage: updated\n",
      "parameter: updated\n",
      "BEGIN %default / _ => (Unit * Unit)\n",
      "DUMP => [(Unit * Unit)]\n",
      "DROP / (Unit * Unit) => _\n",
      "PUSH / _ => 'Some Value'?\n",
      "IF_NONE / 'Some Value'? => 'Some Value'"
     ]
    },
    {
     "data": {
      "text/html": [
       "<h4>Stack updates</h4><table>\n",
       "<thead>\n",
       "<tr><th>index                                 </th><th>type                                       </th><th>value                                          </th></tr>\n",
       "</thead>\n",
       "<tbody>\n",
       "<tr><td><pre style=&quot;text-align: left;&quot;>0</pre></td><td><pre style=&quot;text-align: left;&quot;>string</pre></td><td><pre style=&quot;text-align: left;&quot;>Some Value</pre></td></tr>\n",
       "</tbody>\n",
       "</table>"
      ],
      "text/plain": [
       "Stack updates\n",
       "  index  type    value\n",
       "-------  ------  ----------\n",
       "      0  string  Some Value"
      ]
     },
     "execution_count": 49,
     "metadata": {},
     "output_type": "execute_result"
    }
   ],
   "source": [
    "storage unit ;\n",
    "parameter unit ;\n",
    "BEGIN Unit Unit ;\n",
    "DUMP ;\n",
    "DROP ;\n",
    "PUSH (option string) (Some \"Some Value\") ;\n",
    "IF_NONE\n",
    "    { FAIL } \n",
    "    { }"
   ]
  },
  {
   "cell_type": "code",
   "execution_count": 50,
   "id": "288ae514",
   "metadata": {},
   "outputs": [
    {
     "name": "stdout",
     "output_type": "stream",
     "text": [
      "storage: updated\n",
      "parameter: updated\n",
      "BEGIN %default / _ => (Unit * Unit)\n",
      "DROP / (Unit * Unit) => _\n",
      "PUSH / _ => True\n",
      "IF / True => _"
     ]
    },
    {
     "data": {
      "text/html": [],
      "text/plain": []
     },
     "execution_count": 50,
     "metadata": {},
     "output_type": "execute_result"
    }
   ],
   "source": [
    "storage unit ;\n",
    "parameter unit ;\n",
    "BEGIN Unit Unit ;\n",
    "DROP ;\n",
    "PUSH bool True ;\n",
    "ASSERT ;"
   ]
  },
  {
   "cell_type": "code",
   "execution_count": null,
   "id": "f5fdae73",
   "metadata": {},
   "outputs": [
    {
     "name": "stdout",
     "output_type": "stream",
     "text": [
      "PUSH / _ => False\n",
      "IF / False => _\n",
      "PUSH / _ => ' Is false ! '\n",
      "FAILWITH: ' Is false ! '"
     ]
    },
    {
     "name": "stderr",
     "output_type": "stream",
     "text": [
      "FAILWITH: ' Is false ! '"
     ]
    }
   ],
   "source": [
    "PUSH bool False ;\n",
    "IF \n",
    "    { PUSH string \"Is true ! \"}\n",
    "    { PUSH string \" Is false ! \" ; FAILWITH } ;\n",
    "DUMP ;"
   ]
  }
 ],
 "metadata": {
  "kernelspec": {
   "display_name": "Michelson",
   "language": "michelson",
   "name": "michelson"
  },
  "language_info": {
   "codemirror_mode": "michelson",
   "file_extension": ".tz",
   "mimetype": "text/x-michelson",
   "name": "Michelson"
  }
 },
 "nbformat": 4,
 "nbformat_minor": 5
}
