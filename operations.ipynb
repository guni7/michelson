{
 "cells": [
  {
   "cell_type": "code",
   "execution_count": 19,
   "id": "dc158bbe",
   "metadata": {},
   "outputs": [
    {
     "name": "stdout",
     "output_type": "stream",
     "text": [
      "storage: updated\n",
      "parameter: updated\n",
      "BEGIN %default / _ => (Unit * 0.001)\n",
      "DUMP => [(Unit * 0.001)]\n",
      "CDR / (Unit * 0.001) => 0.001\n",
      "PUSH / _ => 0.001\n",
      "DUMP => [0.001, 0.001]\n",
      "ADD / 0.001 : 0.001 => 0.002\n",
      "PUSH / _ => 0.0005\n",
      "DUMP => [0.0005, 0.002]\n",
      "SWAP / 0.0005 : 0.002 => 0.002 : 0.0005\n",
      "SUB / 0.002 : 0.0005 => 0.0015\n",
      "PUSH / _ => 3\n",
      "SWAP / 3 : 0.0015 => 0.0015 : 3\n",
      "EDIV / 0.0015 : 3 => (0.0005 * 0)?\n",
      "IF_NONE / (0.0005 * 0)? => (0.0005 * 0)\n",
      "DUP / (0.0005 * 0) => (0.0005 * 0) : (0.0005 * 0)\n",
      "CAR / (0.0005 * 0) => 0.0005\n",
      "SWAP / 0.0005 : (0.0005 * 0) => (0.0005 * 0) : 0.0005\n",
      "CDR / (0.0005 * 0) => 0\n",
      "DUMP => [0, 0.0005]"
     ]
    },
    {
     "data": {
      "text/html": [
       "<h4>Stack updates</h4><table>\n",
       "<thead>\n",
       "<tr><th>index                                 </th><th>type                                      </th><th>value                                   </th></tr>\n",
       "</thead>\n",
       "<tbody>\n",
       "<tr><td><pre style=&quot;text-align: left;&quot;>0</pre></td><td><pre style=&quot;text-align: left;&quot;>mutez</pre></td><td><pre style=&quot;text-align: left;&quot;>0</pre>  </td></tr>\n",
       "<tr><td><pre style=&quot;text-align: left;&quot;>1</pre></td><td><pre style=&quot;text-align: left;&quot;>mutez</pre></td><td><pre style=&quot;text-align: left;&quot;>500</pre></td></tr>\n",
       "</tbody>\n",
       "</table>"
      ],
      "text/plain": [
       "Stack updates\n",
       "  index  type      value\n",
       "-------  ------  -------\n",
       "      0  mutez         0\n",
       "      1  mutez       500"
      ]
     },
     "execution_count": 19,
     "metadata": {},
     "output_type": "execute_result"
    }
   ],
   "source": [
    "storage mutez ;\n",
    "parameter unit ;\n",
    "BEGIN Unit 1000 ;\n",
    "DUMP ;\n",
    "CDR @storage ;\n",
    "PUSH mutez 1000 ;\n",
    "DUMP ;\n",
    "ADD ;\n",
    "PUSH mutez 500 ;\n",
    "DUMP ;\n",
    "SWAP ;\n",
    "SUB ;\n",
    "PUSH nat 3 ;\n",
    "SWAP ;\n",
    "EDIV ;\n",
    "IF_NONE \n",
    "    { PUSH string \"DivisionByZero\" ; FAILWITH } \n",
    "    {\n",
    "        DUP ;\n",
    "        CAR @quotient ;\n",
    "        SWAP ;\n",
    "        CDR @remainder ;\n",
    "    } ;\n",
    "DUMP ;"
   ]
  },
  {
   "cell_type": "code",
   "execution_count": 23,
   "id": "b03b77c7",
   "metadata": {},
   "outputs": [
    {
     "name": "stdout",
     "output_type": "stream",
     "text": [
      "storage: updated\n",
      "parameter: updated\n",
      "code: updated\n",
      "BEGIN %default / _ => (Unit * 0.0001)\n",
      "CDR / (Unit * 0.0001) => 0.0001\n",
      "AMOUNT / _ => 0.0002\n",
      "COMPARE / 0.0002 : 0.0001 => 1\n",
      "GT / 1 => True\n",
      "IF / True => _\n",
      "AMOUNT / _ => 0.0002\n",
      "NIL / _ => []\n",
      "PAIR / [] : 0.0002 => ([] * 0.0002)\n",
      "END %default / ([] * 0.0002) => _"
     ]
    },
    {
     "data": {
      "text/html": [
       "<h4>Operations</h4><h4>Storage</h4><table>\n",
       "<thead>\n",
       "<tr><th>type                                      </th><th>value                                   </th></tr>\n",
       "</thead>\n",
       "<tbody>\n",
       "<tr><td><pre style=&quot;text-align: left;&quot;>mutez</pre></td><td><pre style=&quot;text-align: left;&quot;>200</pre></td></tr>\n",
       "</tbody>\n",
       "</table>"
      ],
      "text/plain": [
       "Operations\n",
       "Storage\n",
       "type      value\n",
       "------  -------\n",
       "mutez       200"
      ]
     },
     "execution_count": 23,
     "metadata": {},
     "output_type": "execute_result"
    }
   ],
   "source": [
    "storage mutez ;\n",
    "parameter unit ;\n",
    "code {\n",
    "    PATCH AMOUNT 200 ;\n",
    "    CDR ; \n",
    "    AMOUNT ;\n",
    "    IFCMPGT \n",
    "        { AMOUNT ; NIL operation ; PAIR }\n",
    "        { FAIL }\n",
    "    \n",
    "} ;\n",
    "\n",
    "RUN %default Unit 100 ;"
   ]
  },
  {
   "cell_type": "code",
   "execution_count": null,
   "id": "0afcb995",
   "metadata": {},
   "outputs": [
    {
     "name": "stdout",
     "output_type": "stream",
     "text": [
      "storage: updated\n",
      "parameter: updated\n",
      "code: updated\n",
      "BEGIN %default / _ => (Unit * '')\n",
      "DROP / (Unit * '') => _\n",
      "AMOUNT / _ => 0.000002\n",
      "PUSH / _ => 0\n",
      "COMPARE / 0 : 0.000002 => -1\n",
      "NEQ / -1 => True\n",
      "IF / True => _\n",
      "PUSH / _ => 'AmountNotZero'\n",
      "FAILWITH: 'AmountNotZero'"
     ]
    },
    {
     "name": "stderr",
     "output_type": "stream",
     "text": [
      "FAILWITH: 'AmountNotZero'"
     ]
    }
   ],
   "source": [
    "storage string ;\n",
    "parameter unit ;\n",
    "code {\n",
    "   PATCH AMOUNT 2;\n",
    "   DROP ;\n",
    "   AMOUNT ;\n",
    "   PUSH mutez 0 ;\n",
    "   IFCMPNEQ \n",
    "       { PUSH string \"AmountNotZero\" ; FAILWITH ; }\n",
    "       { \n",
    "           PUSH string \"No Amount !\" ;\n",
    "           NIL operation ;\n",
    "           PAIR ;\n",
    "       } \n",
    "} ;\n",
    "\n",
    "RUN %default Unit  \"\" ;"
   ]
  },
  {
   "cell_type": "code",
   "execution_count": 31,
   "id": "c991723a",
   "metadata": {},
   "outputs": [
    {
     "name": "stdout",
     "output_type": "stream",
     "text": [
      "storage: updated\n",
      "parameter: updated\n",
      "code: updated\n",
      "BEGIN %default / _ => (Unit * 0.001)\n",
      "DROP / (Unit * 0.001) => _\n",
      "AMOUNT / _ => 0.0001\n",
      "BALANCE / _ => 0.0001\n",
      "ADD / 0.0001 : 0.0001 => 0.0002\n",
      "DUP / 0.0002 => 0.0002 : 0.0002\n",
      "PUSH / _ => 0.001\n",
      "COMPARE / 0.001 : 0.0002 => 1\n",
      "GT / 1 => True\n",
      "IF / True => _\n",
      "NIL / _ => []\n",
      "PAIR / [] : 0.0002 => ([] * 0.0002)\n",
      "END %default / ([] * 0.0002) => _"
     ]
    },
    {
     "data": {
      "text/html": [
       "<h4>Operations</h4><h4>Storage</h4><table>\n",
       "<thead>\n",
       "<tr><th>type                                      </th><th>value                                   </th></tr>\n",
       "</thead>\n",
       "<tbody>\n",
       "<tr><td><pre style=&quot;text-align: left;&quot;>mutez</pre></td><td><pre style=&quot;text-align: left;&quot;>200</pre></td></tr>\n",
       "</tbody>\n",
       "</table>"
      ],
      "text/plain": [
       "Operations\n",
       "Storage\n",
       "type      value\n",
       "------  -------\n",
       "mutez       200"
      ]
     },
     "execution_count": 31,
     "metadata": {},
     "output_type": "execute_result"
    }
   ],
   "source": [
    "storage mutez ;\n",
    "parameter unit ;\n",
    "code {\n",
    "    DROP ;\n",
    "    PATCH AMOUNT 100;\n",
    "    PATCH BALANCE 100;\n",
    "    AMOUNT ;\n",
    "    BALANCE ;\n",
    "    ADD ;\n",
    "    DUP ;\n",
    "    PUSH mutez 1000 ;\n",
    "    IFCMPGT \n",
    "        { NIL operation ; PAIR }\n",
    "        { FAIL }\n",
    "} ;\n",
    "\n",
    "RUN %default Unit 1000 ;"
   ]
  },
  {
   "cell_type": "code",
   "execution_count": 33,
   "id": "ab2f4ebb",
   "metadata": {},
   "outputs": [
    {
     "name": "stdout",
     "output_type": "stream",
     "text": [
      "storage: updated\n",
      "parameter: updated\n",
      "code: updated\n",
      "BEGIN %default / _ => (Unit * tz1VSU…cjb%default)\n",
      "DROP / (Unit * tz1VSU…cjb%default) => _\n",
      "PUSH / _ => tz1VSU…cjb\n",
      "CONTRACT: skip type checking for tz1VSUr8wwNhLAzempoch5d6hLRiTh8Cjcjb\n",
      "CONTRACT / tz1VSU…cjb => tz1VSU…cjb%default?\n",
      "IF_NONE / tz1VSU…cjb%default? => tz1VSU…cjb%default\n",
      "NIL / _ => []\n",
      "PAIR / [] : tz1VSU…cjb%default => ([] * tz1VSU…cjb%default)\n",
      "END %default / ([] * tz1VSU…cjb%default) => _"
     ]
    },
    {
     "data": {
      "text/html": [
       "<h4>Operations</h4><h4>Storage</h4><table>\n",
       "<thead>\n",
       "<tr><th>type                                         </th><th>value                                                                    </th></tr>\n",
       "</thead>\n",
       "<tbody>\n",
       "<tr><td><pre style=&quot;text-align: left;&quot;>contract</pre></td><td><pre style=&quot;text-align: left;&quot;>tz1VSUr8wwNhLAzempoch5d6hLRiTh8Cjcjb</pre></td></tr>\n",
       "</tbody>\n",
       "</table>"
      ],
      "text/plain": [
       "Operations\n",
       "Storage\n",
       "type      value\n",
       "--------  ------------------------------------\n",
       "contract  tz1VSUr8wwNhLAzempoch5d6hLRiTh8Cjcjb"
      ]
     },
     "execution_count": 33,
     "metadata": {},
     "output_type": "execute_result"
    }
   ],
   "source": [
    "storage (contract unit) ;\n",
    "parameter unit ;\n",
    "code {\n",
    "    DROP ;\n",
    "    PUSH address \"tz1VSUr8wwNhLAzempoch5d6hLRiTh8Cjcjb\" ;\n",
    "    CONTRACT unit ;\n",
    "    IF_NONE \n",
    "        { FAIL }\n",
    "        { NIL operation ; PAIR ;} ;\n",
    "    \n",
    "} ;\n",
    "RUN %default Unit \"tz1VSUr8wwNhLAzempoch5d6hLRiTh8Cjcjb\""
   ]
  },
  {
   "cell_type": "code",
   "execution_count": 50,
   "id": "5d33a7de",
   "metadata": {},
   "outputs": [
    {
     "name": "stdout",
     "output_type": "stream",
     "text": [
      "storage: updated\n",
      "parameter: updated\n",
      "BEGIN %default / _ => (Unit * Unit)\n",
      "DROP / (Unit * Unit) => _\n",
      "DUMP => []\n",
      "PUSH / _ => tz1VSU…cjb\n",
      "CONTRACT: skip type checking for tz1VSUr8wwNhLAzempoch5d6hLRiTh8Cjcjb\n",
      "CONTRACT / tz1VSU…cjb => tz1VSU…cjb%default?\n",
      "IF_NONE / tz1VSU…cjb%default? => tz1VSU…cjb%default\n",
      "DUMP => [tz1VSU…cjb%default]\n",
      "PUSH / _ => 50\n",
      "DUMP => [50, tz1VSU…cjb%default]\n",
      "PUSH / _ => Unit\n",
      "DUMP => [Unit, 50, tz1VSU…cjb%default]\n",
      "TRANSFER_TOKENS / Unit : 50 : tz1VSU…cjb%default => transaction\n",
      "DUMP => [transaction]\n",
      "NIL / _ => []\n",
      "SWAP / [] : transaction => transaction : []\n",
      "CONS / transaction : [] => [transaction]\n",
      "DUMP => [[transaction]]\n",
      "UNIT / _ => Unit\n",
      "SWAP / Unit : [transaction] => [transaction] : Unit\n",
      "PAIR / [transaction] : Unit => ([transaction] * Unit)\n",
      "END %default / ([transaction] * Unit) => _"
     ]
    },
    {
     "data": {
      "text/html": [
       "<h4>Operations</h4><table>\n",
       "<thead>\n",
       "<tr><th>type                                          </th><th>kind                                            </th><th>source                                                                   </th><th>destination                                                              </th><th>amount                                       </th><th>parameters                                                                               </th></tr>\n",
       "</thead>\n",
       "<tbody>\n",
       "<tr><td><pre style=&quot;text-align: left;&quot;>operation</pre></td><td><pre style=&quot;text-align: left;&quot;>transaction</pre></td><td><pre style=&quot;text-align: left;&quot;>KT1BEqzn5Wx8uJrZNvuS9DVHmLvG9td3fDLi</pre></td><td><pre style=&quot;text-align: left;&quot;>tz1VSUr8wwNhLAzempoch5d6hLRiTh8Cjcjb</pre></td><td><pre style=&quot;text-align: left;&quot;>50000000</pre></td><td><pre style=&quot;text-align: left;&quot;>{&#x27;entrypoint&#x27;: &#x27;default&#x27;, &#x27;value&#x27;: {&#x27;prim&#x27;: &#x27;Unit&#x27;}}</pre></td></tr>\n",
       "</tbody>\n",
       "</table><h4>Storage</h4><table>\n",
       "<thead>\n",
       "<tr><th>type                                     </th><th>value                                    </th></tr>\n",
       "</thead>\n",
       "<tbody>\n",
       "<tr><td><pre style=&quot;text-align: left;&quot;>unit</pre></td><td><pre style=&quot;text-align: left;&quot;>Unit</pre></td></tr>\n",
       "</tbody>\n",
       "</table>"
      ],
      "text/plain": [
       "Operations\n",
       "type       kind         source                                destination                             amount  parameters\n",
       "---------  -----------  ------------------------------------  ------------------------------------  --------  ----------------------------------------------------\n",
       "operation  transaction  KT1BEqzn5Wx8uJrZNvuS9DVHmLvG9td3fDLi  tz1VSUr8wwNhLAzempoch5d6hLRiTh8Cjcjb  50000000  {'entrypoint': 'default', 'value': {'prim': 'Unit'}}Storage\n",
       "type    value\n",
       "------  -------\n",
       "unit    Unit"
      ]
     },
     "execution_count": 50,
     "metadata": {},
     "output_type": "execute_result"
    }
   ],
   "source": [
    "storage unit ;\n",
    "parameter unit ;\n",
    "BEGIN Unit Unit ;\n",
    "PATCH BALANCE 10000000 ;\n",
    "DROP ;\n",
    "DUMP ;\n",
    "PUSH address \"tz1VSUr8wwNhLAzempoch5d6hLRiTh8Cjcjb\" ;\n",
    "CONTRACT unit ;\n",
    "IF_NONE \n",
    "    { PUSH string \"InvalidAddress\" ; FAILWITH ;} { } ;\n",
    "DUMP ;\n",
    "PUSH mutez 50000000 ;\n",
    "DUMP ;\n",
    "PUSH unit Unit ;\n",
    "DUMP ;\n",
    "TRANSFER_TOKENS ;\n",
    "DUMP ;\n",
    "NIL operation ;\n",
    "SWAP ;\n",
    "CONS ;\n",
    "DUMP ;\n",
    "UNIT ;\n",
    "SWAP ;\n",
    "PAIR ;\n",
    "COMMIT ;\n"
   ]
  },
  {
   "cell_type": "code",
   "execution_count": null,
   "id": "cc84c3e0",
   "metadata": {},
   "outputs": [],
   "source": []
  }
 ],
 "metadata": {
  "kernelspec": {
   "display_name": "Michelson",
   "language": "michelson",
   "name": "michelson"
  },
  "language_info": {
   "codemirror_mode": "michelson",
   "file_extension": ".tz",
   "mimetype": "text/x-michelson",
   "name": "Michelson"
  }
 },
 "nbformat": 4,
 "nbformat_minor": 5
}
