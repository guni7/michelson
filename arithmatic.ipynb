{
 "cells": [
  {
   "cell_type": "code",
   "execution_count": 2,
   "id": "83b58f52",
   "metadata": {},
   "outputs": [
    {
     "name": "stdout",
     "output_type": "stream",
     "text": [
      "storage: updated\n",
      "parameter: updated\n",
      "DROP / 8 => _\n",
      "PUSH / _ => 4\n",
      "PUSH / _ => 3\n",
      "SUB / 3 : 4 => -1\n",
      "DUMP => [-1]"
     ]
    },
    {
     "data": {
      "text/html": [
       "<h4>Stack updates</h4><table>\n",
       "<thead>\n",
       "<tr><th>index                                 </th><th>type                                    </th><th>value                                  </th></tr>\n",
       "</thead>\n",
       "<tbody>\n",
       "<tr><td><pre style=&quot;text-align: left;&quot;>0</pre></td><td><pre style=&quot;text-align: left;&quot;>int</pre></td><td><pre style=&quot;text-align: left;&quot;>-1</pre></td></tr>\n",
       "</tbody>\n",
       "</table>"
      ],
      "text/plain": [
       "Stack updates\n",
       "  index  type      value\n",
       "-------  ------  -------\n",
       "      0  int          -1"
      ]
     },
     "execution_count": 2,
     "metadata": {},
     "output_type": "execute_result"
    }
   ],
   "source": [
    "storage unit ;\n",
    "parameter unit ;\n",
    "DROP ;\n",
    "PUSH int 4 ;\n",
    "PUSH int 3 ;\n",
    "SUB ;\n",
    "DUMP ;"
   ]
  },
  {
   "cell_type": "code",
   "execution_count": 8,
   "id": "5e9a61ff",
   "metadata": {},
   "outputs": [
    {
     "name": "stdout",
     "output_type": "stream",
     "text": [
      "storage: updated\n",
      "parameter: updated\n",
      "DROP / (0.0002 * 0) => _\n",
      "PUSH / _ => 5\n",
      "PUSH / _ => 0.001\n",
      "EDIV / 0.001 : 5 => (0.0002 * 0)?\n",
      "DUMP => [(0.0002 * 0)?]\n",
      "IF_NONE / (0.0002 * 0)? => (0.0002 * 0)\n",
      "DUMP => [(0.0002 * 0)]\n",
      "CAR / (0.0002 * 0) => 0.0002"
     ]
    },
    {
     "data": {
      "text/html": [
       "<h4>Stack updates</h4><table>\n",
       "<thead>\n",
       "<tr><th>index                                 </th><th>type                                      </th><th>value                                   </th></tr>\n",
       "</thead>\n",
       "<tbody>\n",
       "<tr><td><pre style=&quot;text-align: left;&quot;>0</pre></td><td><pre style=&quot;text-align: left;&quot;>mutez</pre></td><td><pre style=&quot;text-align: left;&quot;>200</pre></td></tr>\n",
       "</tbody>\n",
       "</table>"
      ],
      "text/plain": [
       "Stack updates\n",
       "  index  type      value\n",
       "-------  ------  -------\n",
       "      0  mutez       200"
      ]
     },
     "execution_count": 8,
     "metadata": {},
     "output_type": "execute_result"
    }
   ],
   "source": [
    "storage unit ;\n",
    "parameter unit ;\n",
    "BEGIN Unit  Unit ;\n",
    "DROP ;\n",
    "PUSH nat 5 ;\n",
    "PUSH mutez 1000 ;\n",
    "EDIV ;\n",
    "DUMP ;\n",
    "IF_NONE { FAIL } {} ;\n",
    "DUMP ;\n",
    "CAR ;"
   ]
  },
  {
   "cell_type": "code",
   "execution_count": 14,
   "id": "bd941855",
   "metadata": {},
   "outputs": [
    {
     "name": "stdout",
     "output_type": "stream",
     "text": [
      "storage: updated\n",
      "parameter: updated\n",
      "BEGIN %default / _ => (Unit * Unit)\n",
      "DROP / (Unit * Unit) => _\n",
      "PUSH / _ => 3\n",
      "ISNAT / 3 => 3?"
     ]
    },
    {
     "data": {
      "text/html": [
       "<h4>Stack updates</h4><table>\n",
       "<thead>\n",
       "<tr><th>index                                 </th><th>type                                             </th><th>value                                 </th></tr>\n",
       "</thead>\n",
       "<tbody>\n",
       "<tr><td><pre style=&quot;text-align: left;&quot;>0</pre></td><td><pre style=&quot;text-align: left;&quot;>option (nat)</pre></td><td><pre style=&quot;text-align: left;&quot;>3</pre></td></tr>\n",
       "</tbody>\n",
       "</table>"
      ],
      "text/plain": [
       "Stack updates\n",
       "  index  type            value\n",
       "-------  ------------  -------\n",
       "      0  option (nat)        3"
      ]
     },
     "execution_count": 14,
     "metadata": {},
     "output_type": "execute_result"
    }
   ],
   "source": [
    "storage unit ;\n",
    "parameter unit ;\n",
    "BEGIN Unit  Unit ;\n",
    "DROP ;\n",
    "PUSH int 3 ;\n",
    "ISNAT ;\n"
   ]
  }
 ],
 "metadata": {
  "kernelspec": {
   "display_name": "Michelson",
   "language": "michelson",
   "name": "michelson"
  },
  "language_info": {
   "codemirror_mode": "michelson",
   "file_extension": ".tz",
   "mimetype": "text/x-michelson",
   "name": "Michelson"
  }
 },
 "nbformat": 4,
 "nbformat_minor": 5
}
