{
 "cells": [
  {
   "cell_type": "code",
   "execution_count": 6,
   "id": "0943d885",
   "metadata": {},
   "outputs": [
    {
     "name": "stdout",
     "output_type": "stream",
     "text": [
      "storage: updated\n",
      "parameter: updated\n",
      "BEGIN %default / _ => (Unit * Unit)\n",
      "DUMP => [(Unit * Unit)]\n",
      "DROP / (Unit * Unit) => _\n",
      "PUSH / _ => 'edpkvGfYw3LyB1UcCahKQk4rF2tvbMUk8GFiTuMjL75uGXrpvKXhjn'\n",
      "DUMP => ['edpkvGfYw3LyB1UcCahKQk4rF2tvbMUk8GFiTuMjL75uGXrpvKXhjn']\n",
      "HASH_KEY / 'edpkvGfYw3LyB1UcCahKQk4rF2tvbMUk8GFiTuMjL75uGXrpvKXhjn' => 'tz1VSUr8wwNhLAzempoch5d6hLRiTh8Cjcjb'\n",
      "PUSH / _ => 0x05010000000568656c6c6f\n",
      "PUSH / _ => 'edsigtnzKd51CDomKVMFBoU8SzFZgNqRkYUaQH4DLUg8Lsimz98DFB82uiHAkdvx29DDqHxPf1noQ8noWpKMZoxTCsfprrbs4Xo'\n",
      "PUSH / _ => 'edpktz4xg6csJnJ5vcmMb2H37sWXyBDcoAp3XrBvjRaTSQ1zmZTeRQ'\n",
      "DUMP => ['edpktz4xg6csJnJ5vcmMb2H37sWXyBDcoAp3XrBvjRaTSQ1zmZTeRQ', 'edsigtnzKd51CDomKVMFBoU8SzFZgNqRkYUaQH4DLUg8Lsimz98DFB82uiHAkdvx29DDqHxPf1noQ8noWpKMZoxTCsfprrbs4Xo', 0x05010000000568656c6c6f]\n",
      "CHECK_SIGNATURE / 'edpktz4xg6csJnJ5vcmMb2H37sWXyBDcoAp3XrBvjRaTSQ1zmZTeRQ' : 'edsigtnzKd51CDomKVMFBoU8SzFZgNqRkYUaQH4DLUg8Lsimz98DFB82uiHAkdvx29DDqHxPf1noQ8noWpKMZoxTCsfprrbs4Xo' : 0x05010000000568656c6c6f => True"
     ]
    },
    {
     "data": {
      "text/html": [
       "<h4>Stack updates</h4><table>\n",
       "<thead>\n",
       "<tr><th>index                                 </th><th>type                                     </th><th>value                                    </th></tr>\n",
       "</thead>\n",
       "<tbody>\n",
       "<tr><td><pre style=&quot;text-align: left;&quot;>0</pre></td><td><pre style=&quot;text-align: left;&quot;>bool</pre></td><td><pre style=&quot;text-align: left;&quot;>True</pre></td></tr>\n",
       "</tbody>\n",
       "</table>"
      ],
      "text/plain": [
       "Stack updates\n",
       "  index  type    value\n",
       "-------  ------  -------\n",
       "      0  bool    True"
      ]
     },
     "execution_count": 6,
     "metadata": {},
     "output_type": "execute_result"
    }
   ],
   "source": [
    "storage unit ;\n",
    "parameter unit ;\n",
    "BEGIN Unit Unit ;\n",
    "DUMP ;\n",
    "DROP ;\n",
    "PUSH key \"edpkvGfYw3LyB1UcCahKQk4rF2tvbMUk8GFiTuMjL75uGXrpvKXhjn\" ;\n",
    "DUMP ;\n",
    "HASH_KEY ;\n",
    "DROP_ALL ;\n",
    "PUSH bytes 0x05010000000568656c6c6f ;\n",
    "PUSH signature \"edsigtnzKd51CDomKVMFBoU8SzFZgNqRkYUaQH4DLUg8Lsimz98DFB82uiHAkdvx29DDqHxPf1noQ8noWpKMZoxTCsfprrbs4Xo\" ;\n",
    "PUSH key \"edpktz4xg6csJnJ5vcmMb2H37sWXyBDcoAp3XrBvjRaTSQ1zmZTeRQ\" ;\n",
    "DUMP ;\n",
    "CHECK_SIGNATURE ;\n"
   ]
  },
  {
   "cell_type": "code",
   "execution_count": 8,
   "id": "ee324546",
   "metadata": {
    "scrolled": true
   },
   "outputs": [
    {
     "name": "stdout",
     "output_type": "stream",
     "text": [
      "storage: updated\n",
      "parameter: updated\n",
      "code: updated\n",
      "BEGIN %default / _ => ('edpkvGfYw3LyB1UcCahKQk4rF2tvbMUk8GFiTuMjL75uGXrpvKXhjn' * 1)\n",
      "CAR / ('edpkvGfYw3LyB1UcCahKQk4rF2tvbMUk8GFiTuMjL75uGXrpvKXhjn' * 1) => 'edpkvGfYw3LyB1UcCahKQk4rF2tvbMUk8GFiTuMjL75uGXrpvKXhjn'\n",
      "HASH_KEY / 'edpkvGfYw3LyB1UcCahKQk4rF2tvbMUk8GFiTuMjL75uGXrpvKXhjn' => 'tz1VSUr8wwNhLAzempoch5d6hLRiTh8Cjcjb'\n",
      "PUSH / _ => 'edpkvGfYw3LyB1UcCahKQk4rF2tvbMUk8GFiTuMjL75uGXrpvKXhjn'\n",
      "HASH_KEY / 'edpkvGfYw3LyB1UcCahKQk4rF2tvbMUk8GFiTuMjL75uGXrpvKXhjn' => 'tz1VSUr8wwNhLAzempoch5d6hLRiTh8Cjcjb'\n",
      "COMPARE / 'tz1VSUr8wwNhLAzempoch5d6hLRiTh8Cjcjb' : 'tz1VSUr8wwNhLAzempoch5d6hLRiTh8Cjcjb' => 0\n",
      "NIL / _ => []\n",
      "PAIR / [] : 0 => ([] * 0)\n",
      "END %default / ([] * 0) => _"
     ]
    },
    {
     "data": {
      "text/html": [
       "<h4>Operations</h4><h4>Storage</h4><table>\n",
       "<thead>\n",
       "<tr><th>type                                    </th><th>value                                 </th></tr>\n",
       "</thead>\n",
       "<tbody>\n",
       "<tr><td><pre style=&quot;text-align: left;&quot;>int</pre></td><td><pre style=&quot;text-align: left;&quot;>0</pre></td></tr>\n",
       "</tbody>\n",
       "</table>"
      ],
      "text/plain": [
       "Operations\n",
       "Storage\n",
       "type      value\n",
       "------  -------\n",
       "int           0"
      ]
     },
     "execution_count": 8,
     "metadata": {},
     "output_type": "execute_result"
    }
   ],
   "source": [
    "storage int ;\n",
    "parameter key ;\n",
    "code {\n",
    "    CAR ;\n",
    "    HASH_KEY ;\n",
    "    PUSH key \"edpkvGfYw3LyB1UcCahKQk4rF2tvbMUk8GFiTuMjL75uGXrpvKXhjn\" ;\n",
    "    HASH_KEY ;\n",
    "    COMPARE ; \n",
    "    NIL operation ;\n",
    "    PAIR ;\n",
    "} ;\n",
    "\n",
    "RUN %default \"edpkvGfYw3LyB1UcCahKQk4rF2tvbMUk8GFiTuMjL75uGXrpvKXhjn\" 1 ;"
   ]
  }
 ],
 "metadata": {
  "kernelspec": {
   "display_name": "Michelson",
   "language": "michelson",
   "name": "michelson"
  },
  "language_info": {
   "codemirror_mode": "michelson",
   "file_extension": ".tz",
   "mimetype": "text/x-michelson",
   "name": "Michelson"
  }
 },
 "nbformat": 4,
 "nbformat_minor": 5
}
