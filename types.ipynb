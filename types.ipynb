{
 "cells": [
  {
   "cell_type": "code",
   "execution_count": 8,
   "id": "bb3bf2d4",
   "metadata": {},
   "outputs": [
    {
     "name": "stdout",
     "output_type": "stream",
     "text": [
      "storage: updated\n",
      "parameter: updated\n",
      "code: updated"
     ]
    },
    {
     "data": {
      "text/html": [],
      "text/plain": []
     },
     "execution_count": 8,
     "metadata": {},
     "output_type": "execute_result"
    }
   ],
   "source": [
    "storage int ;\n",
    "parameter unit ;\n",
    "code {\n",
    "    DROP ;\n",
    "    PUSH int 3 ;\n",
    "    PUSH int 3 ;\n",
    "    ADD ;\n",
    "    NIL operation ;\n",
    "    PAIR ;\n",
    "    \n",
    "}"
   ]
  },
  {
   "cell_type": "code",
   "execution_count": 11,
   "id": "10c850f7",
   "metadata": {},
   "outputs": [
    {
     "name": "stdout",
     "output_type": "stream",
     "text": [
      "BEGIN %default / _ => (Unit * 4)\n",
      "DROP / (Unit * 4) => _\n",
      "PUSH / _ => 3\n",
      "PUSH / _ => 3\n",
      "ADD / 3 : 3 => 6\n",
      "NIL / _ => []\n",
      "PAIR / [] : 6 => ([] * 6)\n",
      "END %default / ([] * 6) => _"
     ]
    },
    {
     "data": {
      "text/html": [
       "<h4>Operations</h4><h4>Storage</h4><table>\n",
       "<thead>\n",
       "<tr><th>type                                    </th><th>value                                 </th></tr>\n",
       "</thead>\n",
       "<tbody>\n",
       "<tr><td><pre style=&quot;text-align: left;&quot;>int</pre></td><td><pre style=&quot;text-align: left;&quot;>6</pre></td></tr>\n",
       "</tbody>\n",
       "</table>"
      ],
      "text/plain": [
       "Operations\n",
       "Storage\n",
       "type      value\n",
       "------  -------\n",
       "int           6"
      ]
     },
     "execution_count": 11,
     "metadata": {},
     "output_type": "execute_result"
    }
   ],
   "source": [
    "RUN %default Unit 4;"
   ]
  },
  {
   "cell_type": "code",
   "execution_count": 12,
   "id": "08f05bf2",
   "metadata": {},
   "outputs": [
    {
     "name": "stdout",
     "output_type": "stream",
     "text": [
      "storage: updated\n",
      "parameter: updated\n",
      "code: updated"
     ]
    },
    {
     "data": {
      "text/html": [],
      "text/plain": []
     },
     "execution_count": 12,
     "metadata": {},
     "output_type": "execute_result"
    }
   ],
   "source": [
    "storage string ;\n",
    "parameter unit ;\n",
    "code {\n",
    "    DUP ;\n",
    "    CAR ;\n",
    "    SWAP ;\n",
    "    CDR ;\n",
    "    PUSH string \"world\" ;\n",
    "    SWAP ;\n",
    "    CONCAT ;\n",
    "    DIP { DROP } ;\n",
    "    NIL operation ;\n",
    "    PAIR \n",
    "}\n"
   ]
  },
  {
   "cell_type": "code",
   "execution_count": 38,
   "id": "d36fceea",
   "metadata": {},
   "outputs": [
    {
     "name": "stdout",
     "output_type": "stream",
     "text": [
      "parameter: updated\n",
      "storage: updated\n",
      "BEGIN %default / _ => (Unit * 'Hello ')\n",
      "DUP / (Unit * 'Hello ') => (Unit * 'Hello ') : (Unit * 'Hello ')\n",
      "DUMP => [(Unit * 'Hello '), (Unit * 'Hello ')]\n",
      "CAR / (Unit * 'Hello ') => Unit\n",
      "DUMP => [Unit, (Unit * 'Hello ')]\n",
      "SWAP / Unit : (Unit * 'Hello ') => (Unit * 'Hello ') : Unit\n",
      "DUMP => [(Unit * 'Hello '), Unit]\n",
      "CDR / (Unit * 'Hello ') => 'Hello '\n",
      "DUMP => ['Hello ', Unit]\n",
      "PUSH / _ => 'world'\n",
      "DUMP => ['world', 'Hello ', Unit]\n",
      "SWAP / 'world' : 'Hello ' => 'Hello ' : 'world'\n",
      "DUMP => ['Hello ', 'world', Unit]\n",
      "CONCAT / 'Hello ' : 'world' => 'Hello world'\n",
      "DUMP => ['Hello world', Unit]\n",
      "DIP / * => _\n",
      "DROP / Unit => _\n",
      "DIP 1 / _ => *\n",
      "DUMP => ['Hello world']\n",
      "NIL / _ => []\n",
      "DUMP => [[], 'Hello world']\n",
      "PAIR / [] : 'Hello world' => ([] * 'Hello world')\n",
      "END %default / ([] * 'Hello world') => _"
     ]
    },
    {
     "data": {
      "text/html": [
       "<h4>Operations</h4><h4>Storage</h4><table>\n",
       "<thead>\n",
       "<tr><th>type                                       </th><th>value                                           </th></tr>\n",
       "</thead>\n",
       "<tbody>\n",
       "<tr><td><pre style=&quot;text-align: left;&quot;>string</pre></td><td><pre style=&quot;text-align: left;&quot;>Hello world</pre></td></tr>\n",
       "</tbody>\n",
       "</table>"
      ],
      "text/plain": [
       "Operations\n",
       "Storage\n",
       "type    value\n",
       "------  -----------\n",
       "string  Hello world"
      ]
     },
     "execution_count": 38,
     "metadata": {},
     "output_type": "execute_result"
    }
   ],
   "source": [
    "parameter unit ;\n",
    "storage string ;\n",
    "BEGIN Unit \"Hello \" ;\n",
    "DUP ; DUMP ;\n",
    "CAR ; DUMP ;\n",
    "SWAP ; DUMP ;\n",
    "CDR ; DUMP ;\n",
    "PUSH string \"world\" ; DUMP ;\n",
    "SWAP ; DUMP ;\n",
    "CONCAT ; DUMP ;\n",
    "DIP { DROP } ; DUMP ;\n",
    "NIL operation ; DUMP ;\n",
    "PAIR ;\n",
    "COMMIT ;"
   ]
  },
  {
   "cell_type": "code",
   "execution_count": 41,
   "id": "240b8f62",
   "metadata": {},
   "outputs": [
    {
     "name": "stdout",
     "output_type": "stream",
     "text": [
      "parameter: updated\n",
      "storage: updated\n",
      "BEGIN %default / _ => (Unit * 'Hello ')\n",
      "DUMP => [(Unit * 'Hello ')]\n",
      "CDR / (Unit * 'Hello ') => 'Hello '\n",
      "PUSH / _ => 'world'\n",
      "SWAP / 'world' : 'Hello ' => 'Hello ' : 'world'\n",
      "CONCAT / 'Hello ' : 'world' => 'Hello world'\n",
      "DUMP => ['Hello world']"
     ]
    },
    {
     "data": {
      "text/html": [
       "<h4>Stack updates</h4><table>\n",
       "<thead>\n",
       "<tr><th>index                                 </th><th>type                                       </th><th>value                                           </th></tr>\n",
       "</thead>\n",
       "<tbody>\n",
       "<tr><td><pre style=&quot;text-align: left;&quot;>0</pre></td><td><pre style=&quot;text-align: left;&quot;>string</pre></td><td><pre style=&quot;text-align: left;&quot;>Hello world</pre></td></tr>\n",
       "</tbody>\n",
       "</table>"
      ],
      "text/plain": [
       "Stack updates\n",
       "  index  type    value\n",
       "-------  ------  -----------\n",
       "      0  string  Hello world"
      ]
     },
     "execution_count": 41,
     "metadata": {},
     "output_type": "execute_result"
    }
   ],
   "source": [
    "parameter unit ;\n",
    "storage string ;\n",
    "code {\n",
    "    CDR ;\n",
    "    PUSH string \"world\" ;\n",
    "    SWAP ;\n",
    "    CONCAT ;\n",
    "    NIL operation ;\n",
    "    PAIR ;\n",
    "}"
   ]
  },
  {
   "cell_type": "code",
   "execution_count": 42,
   "id": "03cad2e2",
   "metadata": {},
   "outputs": [
    {
     "name": "stdout",
     "output_type": "stream",
     "text": [
      "BEGIN %default / _ => (Unit * 'Hello ')\n",
      "DUP / (Unit * 'Hello ') => (Unit * 'Hello ') : (Unit * 'Hello ')\n",
      "CAR / (Unit * 'Hello ') => Unit\n",
      "SWAP / Unit : (Unit * 'Hello ') => (Unit * 'Hello ') : Unit\n",
      "CDR / (Unit * 'Hello ') => 'Hello '\n",
      "PUSH / _ => 'world'\n",
      "SWAP / 'world' : 'Hello ' => 'Hello ' : 'world'\n",
      "CONCAT / 'Hello ' : 'world' => 'Hello world'\n",
      "DIP / * => _\n",
      "DROP / Unit => _\n",
      "DIP 1 / _ => *\n",
      "NIL / _ => []\n",
      "PAIR / [] : 'Hello world' => ([] * 'Hello world')\n",
      "END %default / ([] * 'Hello world') => _"
     ]
    },
    {
     "data": {
      "text/html": [
       "<h4>Operations</h4><h4>Storage</h4><table>\n",
       "<thead>\n",
       "<tr><th>type                                       </th><th>value                                           </th></tr>\n",
       "</thead>\n",
       "<tbody>\n",
       "<tr><td><pre style=&quot;text-align: left;&quot;>string</pre></td><td><pre style=&quot;text-align: left;&quot;>Hello world</pre></td></tr>\n",
       "</tbody>\n",
       "</table>"
      ],
      "text/plain": [
       "Operations\n",
       "Storage\n",
       "type    value\n",
       "------  -----------\n",
       "string  Hello world"
      ]
     },
     "execution_count": 42,
     "metadata": {},
     "output_type": "execute_result"
    }
   ],
   "source": [
    "RUN %default Unit \"Hello \""
   ]
  }
 ],
 "metadata": {
  "kernelspec": {
   "display_name": "Michelson",
   "language": "michelson",
   "name": "michelson"
  },
  "language_info": {
   "codemirror_mode": "michelson",
   "file_extension": ".tz",
   "mimetype": "text/x-michelson",
   "name": "Michelson"
  }
 },
 "nbformat": 4,
 "nbformat_minor": 5
}
